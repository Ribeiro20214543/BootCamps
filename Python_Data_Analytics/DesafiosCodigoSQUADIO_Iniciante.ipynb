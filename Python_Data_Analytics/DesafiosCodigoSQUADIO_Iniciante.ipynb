{
 "cells": [
  {
   "cell_type": "markdown",
   "id": "90271797-43a6-4cbe-bc98-3758467dc2c5",
   "metadata": {},
   "source": [
    "## 1 / 3 - A Aventura do Explorador\n",
    "\n",
    "Você é um intrépido explorador em uma jornada por uma terra desconhecida repleta de desafios emocionantes. Ao se deparar com uma floresta misteriosa, você percebe que a única maneira de atravessá-la é desvendando seus caminhos por meio de um código em Python. Prepare-se para a \"Aventura do Explorador\"!\n",
    "\n",
    "## Entrada\n",
    "Seu programa deve solicitar ao usuário a entrada de um número inteiro positivo, representando a quantidade de passos que o explorador deve dar na floresta. .\n",
    "\n",
    "## Saída\n",
    "O programa deve imprimir uma mensagem indicando o progresso do explorador na floresta. Utilize um laço de repetição para simular os passos do explorador. A cada passo, imprima uma mensagem informando a distância percorrida até o momento.\n",
    "\n",
    "## Exemplos\n",
    "A tabela abaixo apresenta exemplos com alguns dados de entrada e suas respectivas saídas esperadas. Certifique-se de testar seu programa com esses exemplos e com outros casos possíveis.\n",
    "\n",
    "Entrada|\tSaída\n",
    "----------|----------\n",
    "2 | Explorador: 1 passo - Explorador: 2 passos\n",
    "3 | Explorador: 1 passo - Explorador: 2 passos - Explorador: 3 passos\n",
    "0 | Nenhum passo dado na floresta."
   ]
  },
  {
   "cell_type": "code",
   "execution_count": 3,
   "id": "d6f23d60-e4e5-4ddb-9516-6744889728a4",
   "metadata": {},
   "outputs": [
    {
     "ename": "KeyboardInterrupt",
     "evalue": "Interrupted by user",
     "output_type": "error",
     "traceback": [
      "\u001b[1;31m---------------------------------------------------------------------------\u001b[0m",
      "\u001b[1;31mKeyboardInterrupt\u001b[0m                         Traceback (most recent call last)",
      "Cell \u001b[1;32mIn[3], line 4\u001b[0m\n\u001b[0;32m      1\u001b[0m \u001b[38;5;66;03m# Desafio: A Aventura do Explorador\u001b[39;00m\n\u001b[0;32m      2\u001b[0m \n\u001b[0;32m      3\u001b[0m \u001b[38;5;66;03m# Entrada\u001b[39;00m\n\u001b[1;32m----> 4\u001b[0m quantidade_passos \u001b[38;5;241m=\u001b[39m \u001b[38;5;28mint\u001b[39m(\u001b[38;5;28minput\u001b[39m())\n\u001b[0;32m      6\u001b[0m \u001b[38;5;66;03m# Condição para verificar se a quantidade de passos é positiva.\u001b[39;00m\n\u001b[0;32m      7\u001b[0m \u001b[38;5;66;03m# Se a quantidade de passos for zero, imprime \"Nenhum passo dado na floresta.\"\u001b[39;00m\n\u001b[0;32m      8\u001b[0m \u001b[38;5;66;03m# Caso contrário, utilize um loop for para imprimir a mensagem do explorador, indicando o número do passo.\u001b[39;00m\n\u001b[0;32m      9\u001b[0m \u001b[38;5;28;01mif\u001b[39;00m quantidade_passos \u001b[38;5;241m<\u001b[39m\u001b[38;5;241m=\u001b[39m \u001b[38;5;241m0\u001b[39m:\n",
      "File \u001b[1;32mc:\\Users\\Pessoal\\anaconda3\\Lib\\site-packages\\ipykernel\\kernelbase.py:1202\u001b[0m, in \u001b[0;36mKernel.raw_input\u001b[1;34m(self, prompt)\u001b[0m\n\u001b[0;32m   1200\u001b[0m     msg \u001b[38;5;241m=\u001b[39m \u001b[38;5;124m\"\u001b[39m\u001b[38;5;124mraw_input was called, but this frontend does not support input requests.\u001b[39m\u001b[38;5;124m\"\u001b[39m\n\u001b[0;32m   1201\u001b[0m     \u001b[38;5;28;01mraise\u001b[39;00m StdinNotImplementedError(msg)\n\u001b[1;32m-> 1202\u001b[0m \u001b[38;5;28;01mreturn\u001b[39;00m \u001b[38;5;28mself\u001b[39m\u001b[38;5;241m.\u001b[39m_input_request(\n\u001b[0;32m   1203\u001b[0m     \u001b[38;5;28mstr\u001b[39m(prompt),\n\u001b[0;32m   1204\u001b[0m     \u001b[38;5;28mself\u001b[39m\u001b[38;5;241m.\u001b[39m_parent_ident[\u001b[38;5;124m\"\u001b[39m\u001b[38;5;124mshell\u001b[39m\u001b[38;5;124m\"\u001b[39m],\n\u001b[0;32m   1205\u001b[0m     \u001b[38;5;28mself\u001b[39m\u001b[38;5;241m.\u001b[39mget_parent(\u001b[38;5;124m\"\u001b[39m\u001b[38;5;124mshell\u001b[39m\u001b[38;5;124m\"\u001b[39m),\n\u001b[0;32m   1206\u001b[0m     password\u001b[38;5;241m=\u001b[39m\u001b[38;5;28;01mFalse\u001b[39;00m,\n\u001b[0;32m   1207\u001b[0m )\n",
      "File \u001b[1;32mc:\\Users\\Pessoal\\anaconda3\\Lib\\site-packages\\ipykernel\\kernelbase.py:1245\u001b[0m, in \u001b[0;36mKernel._input_request\u001b[1;34m(self, prompt, ident, parent, password)\u001b[0m\n\u001b[0;32m   1242\u001b[0m \u001b[38;5;28;01mexcept\u001b[39;00m \u001b[38;5;167;01mKeyboardInterrupt\u001b[39;00m:\n\u001b[0;32m   1243\u001b[0m     \u001b[38;5;66;03m# re-raise KeyboardInterrupt, to truncate traceback\u001b[39;00m\n\u001b[0;32m   1244\u001b[0m     msg \u001b[38;5;241m=\u001b[39m \u001b[38;5;124m\"\u001b[39m\u001b[38;5;124mInterrupted by user\u001b[39m\u001b[38;5;124m\"\u001b[39m\n\u001b[1;32m-> 1245\u001b[0m     \u001b[38;5;28;01mraise\u001b[39;00m \u001b[38;5;167;01mKeyboardInterrupt\u001b[39;00m(msg) \u001b[38;5;28;01mfrom\u001b[39;00m \u001b[38;5;28;01mNone\u001b[39;00m\n\u001b[0;32m   1246\u001b[0m \u001b[38;5;28;01mexcept\u001b[39;00m \u001b[38;5;167;01mException\u001b[39;00m:\n\u001b[0;32m   1247\u001b[0m     \u001b[38;5;28mself\u001b[39m\u001b[38;5;241m.\u001b[39mlog\u001b[38;5;241m.\u001b[39mwarning(\u001b[38;5;124m\"\u001b[39m\u001b[38;5;124mInvalid Message:\u001b[39m\u001b[38;5;124m\"\u001b[39m, exc_info\u001b[38;5;241m=\u001b[39m\u001b[38;5;28;01mTrue\u001b[39;00m)\n",
      "\u001b[1;31mKeyboardInterrupt\u001b[0m: Interrupted by user"
     ]
    }
   ],
   "source": [
    "# Desafio: A Aventura do Explorador\n",
    "\n",
    "# Entrada\n",
    "quantidade_passos = int(input())\n",
    "\n",
    "# Condição para verificar se a quantidade de passos é positiva.\n",
    "# Se a quantidade de passos for zero, imprime \"Nenhum passo dado na floresta.\"\n",
    "# Caso contrário, utilize um loop for para imprimir a mensagem do explorador, indicando o número do passo.\n",
    "if quantidade_passos <= 0:\n",
    "    print(\"Nenhum passo dado na floresta.\")\n",
    "else:\n",
    "    for passo in range(1, quantidade_passos + 1):\n",
    "        print(\"Explorador: {} passo{}\".format(passo, \"s\" if passo > 1 else \"\"))"
   ]
  },
  {
   "cell_type": "markdown",
   "id": "f2de5625-e1c8-4f2c-8096-0e6429679208",
   "metadata": {},
   "source": [
    "## Desafio: 2 / 3 - Lista de itens\n",
    "\n",
    "Em um jogo de RPG, os personagens geralmente possuem uma lista de itens que podem ser utilizados durante o jogo. Esses itens podem ser armas, armaduras, poções de cura, entre outros. É importante que o jogador tenha um controle desses itens para poder utilizá-los no momento adequado.\n",
    "\n",
    "Crie um programa que permita cadastrar uma lista de itens que o personagem possui. A lista deve conter o valor fixo de 3 itens e deve ser exibida na tela.\n",
    "\n",
    "## Entrada\n",
    "O programa deve solicitar ao usuário o nome dos 3 itens que o personagem possui. Cada item deve ser cadastrado separadamente.\n",
    "\n",
    "## Saída\n",
    "Após receber os itens cadastrados pelo usuário, o programa deve exibir na tela a lista de itens que o personagem possui. A saída deve ter o seguinte formato:\n",
    "\n",
    "Lista de itens:\n",
    "- [item1]\n",
    "- [item2]\n",
    "- [item3]\n",
    "\n",
    "## Exemplos\n",
    "A tabela abaixo apresenta exemplos com alguns dados de entrada e suas respectivas saídas esperadas. Certifique-se de testar seu programa com esses exemplos e com outros casos possíveis.\n",
    "\n",
    "\n",
    "Entrada | \tSaída\n",
    "---------|----------\n",
    "Espada - Escudo - Poção  | Lista de itens: - Espada - Escudo - Poção\n",
    "Gema - Flecha - Capa | Lista de itens: - Gema - Flecha - Capa \n",
    "Masterball - Potion  - Elixir | Lista de itens: - Masterball - Potion - Elixir"
   ]
  },
  {
   "cell_type": "code",
   "execution_count": null,
   "id": "38a78941-ff23-4629-be83-2c2eb127da9b",
   "metadata": {},
   "outputs": [
    {
     "name": "stdout",
     "output_type": "stream",
     "text": [
      "Lista de itens:\n",
      "- Gema\n",
      "- Flecha\n",
      "- Capa\n"
     ]
    }
   ],
   "source": [
    "# Lista para armazenar os itens\n",
    "itens = []\n",
    "\n",
    "# TODO: Solicite os itens ao usuário\n",
    "for i in range(3):\n",
    "    item = input()\n",
    "    itens.append(item)\n",
    "\n",
    "# Exibe a lista de itens\n",
    "print(\"Lista de itens:\")\n",
    "for item in itens:\n",
    "    print(f\"- {item}\")"
   ]
  },
  {
   "cell_type": "markdown",
   "id": "f49371b6",
   "metadata": {},
   "source": [
    "# Desafio 3 / 3 - Armazenamento de Dados é Vida!\n",
    "\n",
    "# Descrição\n",
    "Com as máquinas pesadas agrupadas estrategicamente, graças ao seu algoritmo de cálculo energético, agora a mineração está muito mais eficiente! Com isso, os CodeMiners logo terão que aumentar a capacidade de armazenamento de dados em seus discos de Mithril. Atualmente, cada máquina tem uma capacidade em teraflops e todas terão um upgrade! Escreva um programa que calcule a nova capacidade total de todas as máquinas após um aumento percentual específico.\n",
    "\n",
    "# Entrada\n",
    "Dois valores inteiros positivos, representando a capacidade atual total em teraflops e o aumento percentual, separados por espaço.\n",
    "\n",
    "# Saída\n",
    "A nova capacidade total em teraflops.\n",
    "\n",
    "# Exemplos\n",
    "A tabela abaixo apresenta exemplos com alguns dados de entrada e suas respectivas saídas esperadas. Certifique-se de testar seu programa com esses exemplos e com outros casos possíveis.\n",
    "\n",
    "Entrada\t| Saída\n",
    "--------|-------\n",
    "100 20\t| 120\n",
    "50 10\t| 55\n",
    "200 50\t| 300"
   ]
  },
  {
   "cell_type": "code",
   "execution_count": 5,
   "id": "8a814d33",
   "metadata": {},
   "outputs": [
    {
     "name": "stdout",
     "output_type": "stream",
     "text": [
      "300\n"
     ]
    }
   ],
   "source": [
    "capacidade_atual, aumento_percentual = map(int, input().split())\n",
    "\n",
    "# TODO: Calcule a nova capacidade do disco de Mithril\n",
    "nova_capacidade = capacidade_atual * (1 + aumento_percentual / 100)\n",
    "\n",
    "# TODO: Imprima a nova capacidade\n",
    "print(int(nova_capacidade))"
   ]
  }
 ],
 "metadata": {
  "kernelspec": {
   "display_name": "Python 3 (ipykernel)",
   "language": "python",
   "name": "python3"
  },
  "language_info": {
   "codemirror_mode": {
    "name": "ipython",
    "version": 3
   },
   "file_extension": ".py",
   "mimetype": "text/x-python",
   "name": "python",
   "nbconvert_exporter": "python",
   "pygments_lexer": "ipython3",
   "version": "3.11.5"
  }
 },
 "nbformat": 4,
 "nbformat_minor": 5
}
