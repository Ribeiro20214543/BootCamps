{
 "cells": [
  {
   "cell_type": "markdown",
   "metadata": {},
   "source": [
    "# Desafio 1 / 3 - O Grande Depósito - Solucionando Problemas Bancário\n",
    "\n",
    "Você foi contratado por um banco para desenvolver um programa que auxilie seus clientes a realizar depósitos em suas contas. O programa deve solicitar ao cliente o valor do depósito e verificar se o valor é válido. Se o valor for maior do que zero, o programa deve adicionar o valor ao saldo da conta. Caso contrário, o programa deve exibir uma mensagem de erro. O programa deve solicitar apenas uma vez o valor de depósito.\n",
    "\n",
    "## Entrada\n",
    "O programa deve receber o valor de depósito digitado pelo cliente. Os valor pode ser decimal, representando valor em reais.\n",
    "\n",
    "## Saída\n",
    "O programa deve exibir uma mensagem de sucesso quando um valor de depósito válido for informado e o saldo da conta for atualizado. Se o valor for \"0\", deverá imprimir uma mensagem encerrando o programa. Caso um valor inválido seja digitado, o programa deve exibir uma mensagem de erro solicitando um novo valor.\n",
    "\n",
    "## Exemplos\n",
    "A tabela abaixo apresenta exemplos com alguns dados de entrada e suas respectivas saídas esperadas. Certifique-se de testar seu programa com esses exemplos e com outros casos possíveis.\n",
    "\n",
    "Entrada | Saída\n",
    "--------|----------\n",
    "500.50\t| Deposito realizado com sucesso! Saldo atual: R$ 500.50\n",
    "-100\t| Valor invalido! Digite um valor maior que zero.\n",
    "0\t    |Encerrando o programa..."
   ]
  },
  {
   "cell_type": "code",
   "execution_count": 5,
   "metadata": {},
   "outputs": [
    {
     "name": "stdout",
     "output_type": "stream",
     "text": [
      "Deposito realizado com sucesso!\n",
      "Saldo atual: R$ 500.50\n"
     ]
    }
   ],
   "source": [
    "valor = float(input())\n",
    "\n",
    "\n",
    "if valor > 0:\n",
    "    # TODO: Imprimir a mensagem de sucesso, formatando o saldo atual (vide Exemplos).\n",
    "    print('Deposito realizado com sucesso!')\n",
    "    print(f\"Saldo atual: R$ {valor:.2f}\")\n",
    "elif valor == 0:\n",
    "   # TODO: Imprimir a mensagem de valor inválido.\n",
    "     print(\"Encerrando o programa...\")\n",
    "else:\n",
    "  # TODO: Imprimir a mensagem de encerrar o programa.\n",
    "     print(\"Valor invalido! Digite um valor maior que zero.\")"
   ]
  },
  {
   "cell_type": "markdown",
   "metadata": {},
   "source": [
    "# Desafio 2 / 3 - Estrutura de Dados: Organizando Os Seus Ativos\n",
    "\n",
    "Após uma análise cuidadosa realizada pela equipe de desenvolvimento de uma empresa bancaria, foi identificado a necessidade de uma nova funcionalidade para otimizar os processos e melhorias da experiência dos usuários. Agora, sua tarefa é implementar uma solução que organize em ordem alfabética uma lista de ativos que será informada pelos usuários. Os ativos são representados por strings que representam seus tipos, como por exemplo: Reservas de liquidez, Ativos intangiveis e dentre outros.\n",
    "\n",
    "## Entrada\n",
    "A primeira entrada consiste em um número inteiro que representa a  quantidade de ativos que o usuário possui. Em seguida, o usuário deverá  informar, em linhas separadas, os tipos (strings) dos respectivos ativos.\n",
    "\n",
    "## Saída\n",
    "Seu programa deve exibir a lista de Ativos organizada em ordem alfabética. Cada ativo deve ser apresentado em uma linha separada.\n",
    "\n",
    "## Exemplos\n",
    "A tabela abaixo apresenta exemplos com alguns dados de entrada e suas respectivas saídas esperadas. Certifique-se de testar seu programa com esses exemplos e com outros casos possíveis.\n",
    "\n",
    "Entrada\t| Saída\n",
    "------------|-------------\n",
    "3   Deposito  Financiamento de Imovel  Reservas Bancarias | Deposito   Financiamento de Imovel  Reservas Bancarias\n",
    "3   Carteiras de credito   Investimentos em titulos  Derivativos financeiros |  Carteiras de credito   Derivativos financeiros Investimentos em titulos\n",
    "3   Reservas de liquidez   Ativos intangiveis  Fundos de investimento\t| Ativos intangiveis  Fundos de investimento  Reservas de liquidez\n",
    "\n"
   ]
  },
  {
   "cell_type": "code",
   "execution_count": 7,
   "metadata": {},
   "outputs": [
    {
     "name": "stdout",
     "output_type": "stream",
     "text": [
      "Deposito\n",
      "Financiamento de imovel\n",
      "Reservas Bancarias\n"
     ]
    }
   ],
   "source": [
    "ativos = []\n",
    "\n",
    "# Entrada da quantidade de ativos\n",
    "quantidadeAtivos = int(input())\n",
    "\n",
    "# Entrada dos códigos dos ativos\n",
    "for _ in range(quantidadeAtivos):\n",
    "    codigoAtivo = input()\n",
    "    ativos.append(codigoAtivo)\n",
    "\n",
    "# TODO: Ordenar os ativos em ordem alfabética.\n",
    "\n",
    "ativos.sort()\n",
    "\n",
    "# TODO: Imprimir a lista de ativos ordenada, conforme a tabela de exemplos.\n",
    "\n",
    "for ativo in ativos:\n",
    "  print(ativo)"
   ]
  },
  {
   "cell_type": "markdown",
   "metadata": {},
   "source": [
    "# Desafio 3 / 3 - Validando a Força de Senhas no IAM\n",
    "\n",
    "Você está trabalhando para uma empresa que utiliza extensivamente os serviços da AWS, e após algumas análises a equipe de segurança identificou que algumas senhas dos usuários no IAM são fracas e podem representar um risco à segurança dos dados da empresa. Para resolver esse problema, foi solicitado que você desenvolva um programa capaz de analisar as senhas dos usuários e fornecer uma validação de força com base em critérios predefinidos.\n",
    "\n",
    "## Requisitos de segurança para a senha:\n",
    "\n",
    "A senha deve ter no mínimo 8 caracteres.\n",
    "A senha deve conter pelo menos uma letra maiúscula (A-Z).\n",
    "A senha deve conter pelo menos uma letra minúscula (a-z).\n",
    "A senha deve conter pelo menos um número (0-9).\n",
    "A senha deve conter pelo menos um caractere especial, como !, @, #, $, %, etc.\n",
    "Saiba mais sobre o Regex em: Java Regular Expressions\n",
    "\n",
    "## Entrada\n",
    "A entrada será uma única string representando a senha que precisa ser validada.\n",
    "\n",
    "## Saída\n",
    "Seu programa deve retornar uma mensagem indicando se a senha fornecida pelo usuário atende aos requisitos de segurança ou não, juntamente com um feedback explicativo sobre os critérios considerados.\n",
    "\n",
    "Entrada\t| Saída\n",
    "--------|---------\n",
    "0101\t| Sua senha e muito curta. Recomenda-se no minimo 8 caracteres.\n",
    "030609saturno*\t| Sua senha atende aos requisitos de seguranca. Parabens!\n",
    "010203Jupiter\t| Sua senha nao atende aos requisitos de seguranca."
   ]
  },
  {
   "cell_type": "code",
   "execution_count": 11,
   "metadata": {},
   "outputs": [
    {
     "name": "stdout",
     "output_type": "stream",
     "text": [
      "Sua senha nao atende aos requisitos de seguranca.\n"
     ]
    }
   ],
   "source": [
    "def verificar_forca_senha(senha):\n",
    "\n",
    "\n",
    "  comprimento_minimo = 8\n",
    "  tem_letra_maiuscula = False\n",
    "  tem_letra_minuscula = False\n",
    "  tem_numero = False\n",
    "  tem_caractere_especial = False\n",
    "\n",
    "  # Verificando o comprimento da senha\n",
    "  if len(senha) < comprimento_minimo:\n",
    "    return f\"Sua senha e muito curta. Recomenda-se no minimo {comprimento_minimo} caracteres.\"\n",
    "\n",
    "  # TODO: Verifique se a senha contém letras maiúsculas e minúsculas\n",
    "  for char in senha:\n",
    "        if char.isupper():\n",
    "            tem_letra_maiuscula = True\n",
    "        elif char.islower():\n",
    "            tem_letra_minuscula = True\n",
    "        elif char.isdigit():\n",
    "            tem_numero = True\n",
    "        elif not char.isalnum():\n",
    "            tem_caractere_especial = True\n",
    "\n",
    "  # Verificando se a senha contém sequências comuns\n",
    "  sequencias_comuns = [\"123456\", \"abcdef\"]\n",
    "  for sequencia in sequencias_comuns:\n",
    "    if sequencia in senha:\n",
    "      return \"Sua senha contem uma sequencia comum. Tente uma senha mais complexa.\"\n",
    "\n",
    "  # Verificando se a senha contém palavras comuns\n",
    "  palavras_comuns = [\"password\", \"123456\", \"qwerty\"]\n",
    "  if senha in palavras_comuns:\n",
    "    return \"Sua senha e muito comum. Tente uma senha mais complexa.\"\n",
    "\n",
    "  # TODO: Verificar o comprimento mínimo e critérios de validação\n",
    "  if not tem_letra_maiuscula or not tem_letra_minuscula or not tem_numero or not tem_caractere_especial:\n",
    "      return \"Sua senha nao atende aos requisitos de seguranca.\"\n",
    "  else:\n",
    "      return \"Sua senha atende aos requisitos de seguranca. Parabens!\"\n",
    "\n",
    "\n",
    "# Obtendo a senha do usuário\n",
    "senha = input().strip()\n",
    "\n",
    "# Verificando a força da senha\n",
    "resultado = verificar_forca_senha(senha)\n",
    "\n",
    "# Imprimindo o resultado\n",
    "print(resultado)"
   ]
  }
 ],
 "metadata": {
  "kernelspec": {
   "display_name": "base",
   "language": "python",
   "name": "python3"
  },
  "language_info": {
   "codemirror_mode": {
    "name": "ipython",
    "version": 3
   },
   "file_extension": ".py",
   "mimetype": "text/x-python",
   "name": "python",
   "nbconvert_exporter": "python",
   "pygments_lexer": "ipython3",
   "version": "3.11.5"
  }
 },
 "nbformat": 4,
 "nbformat_minor": 2
}
