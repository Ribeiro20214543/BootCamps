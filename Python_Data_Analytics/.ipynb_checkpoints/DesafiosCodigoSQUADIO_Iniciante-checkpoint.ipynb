{
 "cells": [
  {
   "cell_type": "markdown",
   "id": "90271797-43a6-4cbe-bc98-3758467dc2c5",
   "metadata": {},
   "source": [
    "## 1 / 3 - A Aventura do Explorador\n",
    "\n",
    "Você é um intrépido explorador em uma jornada por uma terra desconhecida repleta de desafios emocionantes. Ao se deparar com uma floresta misteriosa, você percebe que a única maneira de atravessá-la é desvendando seus caminhos por meio de um código em Python. Prepare-se para a \"Aventura do Explorador\"!\n",
    "\n",
    "## Entrada\n",
    "Seu programa deve solicitar ao usuário a entrada de um número inteiro positivo, representando a quantidade de passos que o explorador deve dar na floresta. .\n",
    "\n",
    "## Saída\n",
    "O programa deve imprimir uma mensagem indicando o progresso do explorador na floresta. Utilize um laço de repetição para simular os passos do explorador. A cada passo, imprima uma mensagem informando a distância percorrida até o momento.\n",
    "\n",
    "## Exemplos\n",
    "A tabela abaixo apresenta exemplos com alguns dados de entrada e suas respectivas saídas esperadas. Certifique-se de testar seu programa com esses exemplos e com outros casos possíveis.\n",
    "\n",
    "Entrada|\tSaída\n",
    "----------|----------\n",
    "2 | Explorador: 1 passo - Explorador: 2 passos\n",
    "3 | Explorador: 1 passo - Explorador: 2 passos - Explorador: 3 passos\n",
    "0 | Nenhum passo dado na floresta."
   ]
  },
  {
   "cell_type": "code",
   "execution_count": 1,
   "id": "d6f23d60-e4e5-4ddb-9516-6744889728a4",
   "metadata": {},
   "outputs": [
    {
     "name": "stdin",
     "output_type": "stream",
     "text": [
      " 2\n"
     ]
    },
    {
     "name": "stdout",
     "output_type": "stream",
     "text": [
      "Explorador: 1 passo\n",
      "Explorador: 2 passos\n"
     ]
    }
   ],
   "source": [
    "# Desafio: A Aventura do Explorador\n",
    "\n",
    "# Entrada\n",
    "quantidade_passos = int(input())\n",
    "\n",
    "# Condição para verificar se a quantidade de passos é positiva.\n",
    "# Se a quantidade de passos for zero, imprime \"Nenhum passo dado na floresta.\"\n",
    "# Caso contrário, utilize um loop for para imprimir a mensagem do explorador, indicando o número do passo.\n",
    "if quantidade_passos <= 0:\n",
    "    print(\"Nenhum passo dado na floresta.\")\n",
    "else:\n",
    "    for passo in range(1, quantidade_passos + 1):\n",
    "        print(\"Explorador: {} passo{}\".format(passo, \"s\" if passo > 1 else \"\"))"
   ]
  },
  {
   "cell_type": "markdown",
   "id": "f766bbb0-2692-42f5-8d45-e7671e9228e8",
   "metadata": {},
   "source": [
    "## Desafio: 2 / 3 - Lista de itens\n",
    "\r\n",
    "Em um jogo de RPG, os personagens geralmente possuem uma lista de itens que podem ser utilizados durante o jogo. Esses itens podem ser armas, armaduras, poções de cura, entre outros. É importante que o jogador tenha um controle desses itens para poder utilizá-los no momento adequado.\r\n",
    "\r\n",
    "Crie um programa que permita cadastrar uma lista de itens que o personagem possui. A lista deve conter o valor fixo de 3 itens e deve ser exibida na tela## .\r\n",
    "\r\n",
    "Entrada\r\n",
    "O programa deve solicitar ao usuário o nome dos 3 itens que o personagem possui. Cada item deve ser cadastrado separadame## nte.\r\n",
    "\r\n",
    "Saída\r\n",
    "Após receber os itens cadastrados pelo usuário, o programa deve exibir na tela a lista de itens que o personagem possui. A saída deve ter o seguinte formato:\r\n",
    "\r\n",
    "Lista de itens:\r\n",
    "- [item1]\r\n",
    "- [item2]\r\n",
    "- [item3]\r\n",
    "\r\n",
    "Exemplos\r\n",
    "A tabela abaixo apresenta exemplos com alguns dados de entrada e suas respectivas saídas esperadas. Certifique-se de testar seu programa com esses exemplos e com outros\n",
    "\n",
    " casos po | ssívei\n",
    "---------|----------s.\r\n",
    "\r\n",
    "E |ntrada\t | Saída\r",
    "| E|spada\r\n",
    "Escudo\r\n",
    "Poção\r\n",
    "\r\n",
    "Lista de itens:\r\n",
    "- Espa | da\r\n",
    "- E| scudo | \r\n",
    "| - Poção\r\n",
    "\r\n",
    "Gema\r\n",
    "Flecha\r\n",
    "Capa\r\n",
    "\r\n",
    "Lista\n",
    "   de itens:\r",
    "|\n",
    "- Gema |\r\n",
    "- Fle |ch| a\r\n",
    "- Capa\r\n",
    "Masterball\r\n",
    "Potion\r\n",
    "Elixir\r\n",
    "\r\n",
    "Lista de itens:\r\n",
    "- Masterball\r\n",
    "- Potion\r\n",
    "- Elixir"
   ]
  },
  {
   "cell_type": "code",
   "execution_count": null,
   "id": "89d38b68-0c00-4a1f-ab0d-0f921b2da7f4",
   "metadata": {},
   "outputs": [],
   "source": []
  }
 ],
 "metadata": {
  "kernelspec": {
   "display_name": "Python 3 (ipykernel)",
   "language": "python",
   "name": "python3"
  },
  "language_info": {
   "codemirror_mode": {
    "name": "ipython",
    "version": 3
   },
   "file_extension": ".py",
   "mimetype": "text/x-python",
   "name": "python",
   "nbconvert_exporter": "python",
   "pygments_lexer": "ipython3",
   "version": "3.11.5"
  }
 },
 "nbformat": 4,
 "nbformat_minor": 5
}
