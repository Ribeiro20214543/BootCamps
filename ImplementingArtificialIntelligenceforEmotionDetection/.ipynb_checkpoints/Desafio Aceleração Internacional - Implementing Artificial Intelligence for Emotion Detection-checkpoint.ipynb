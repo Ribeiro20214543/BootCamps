{
 "cells": [
  {
   "cell_type": "markdown",
   "id": "e29e9f95",
   "metadata": {},
   "source": [
    "# 1/3 Dectecting Emotions"
   ]
  },
  {
   "cell_type": "markdown",
   "id": "74832d23",
   "metadata": {},
   "source": [
    "### Challenge\n",
    "An institution decided to conduct research involving virtual assistants with the ability to identify people's emotions through their facial expressions, aiming to determine the most appropriate customer service approach based on their emotion. In this scenario, it was decided to develop a program that categorizes people's emotions based on this simplified facial analysis. Your task is to create a function that receives a list with the intensity of each facial feature of a person and returns the predominant emotion without using external libraries.\n",
    "\n",
    "### Input\n",
    "The input will be a string with 4 numbers separated by commas (,) representing the intensity of 4 distinct emotions, where each index in this list represents, respectively, the emotions: Anger, Happiness, Sadness, and Surprise.\n",
    "\n",
    "### Output\n",
    "The expected output is the name of the predominant emotion.\n",
    "\n",
    "### Examples\n",
    "The table below presents examples with some input data and their respective expected outputs. Make sure to test your program with these examples and with other possible cases.\n",
    "\n",
    "| Input  |  Output  |\n",
    "|--------|----------|\n",
    "|1,0,7,1 | Sadness  |\n",
    "|0,8,0,1 | Happiness|\n",
    "|6,0,1,2 | Anger    |"
   ]
  },
  {
   "cell_type": "code",
   "execution_count": 3,
   "id": "43ec42f9",
   "metadata": {},
   "outputs": [
    {
     "name": "stdout",
     "output_type": "stream",
     "text": [
      "0,8,0,1\n",
      "Happiness\n"
     ]
    }
   ],
   "source": [
    "input_str = input()\n",
    "# TODO: Split the input into a list of strings and convert it to a new list of integers\n",
    "facial_features = input_str.split(\",\")\n",
    "facial_features = list(map(int, facial_features))\n",
    "# TODO: Define a function to analyze the predominant emotion based on the list of integers representing the intensity and a list of strings representing the emotions\n",
    "def analyze_emotion(facial_features):\n",
    "    # TODO: Finding the index of the predominant emotion in the list of facial features\n",
    "    predominant_index = facial_features.index(max(facial_features))\n",
    "    emotions = [\"Anger\", \"Happiness\", \"Sadness\", \"Surprise\"]\n",
    "    \n",
    "    # TODO: Determining the predominant emotion based on the found index\n",
    "    predominant_emotion = emotions[predominant_index]\n",
    "    \n",
    "    return predominant_emotion\n",
    "    \n",
    "# TODO: Print the predominant emotion\n",
    "result = analyze_emotion(facial_features)\n",
    "print(result)"
   ]
  },
  {
   "cell_type": "markdown",
   "id": "9becba20",
   "metadata": {},
   "source": [
    "# 2 / 3 - Fraud Detection in Financial Transactions"
   ]
  },
  {
   "cell_type": "markdown",
   "id": "7fd0a893",
   "metadata": {},
   "source": [
    "### Challenge\n",
    "You are part of a development team at a financial institution. Recently, the team was given the important task of improving the fraud detection system in financial transactions. To do this, it is necessary to develop an algorithm, without the use of libraries, capable of identifying suspicious patterns in bank transactions equal to or greater than the corresponding fraud limit for that account.\n",
    "\n",
    "### Input\n",
    "The input consists of: n, which corresponds to the number of transactions to be analyzed, followed by lists referring to the transactions, each consisting of three values: an id, the transaction value and the fraud threshold value.\n",
    "\n",
    "### Output\n",
    "The expected output is the ids of the suspicious transactions.\n",
    "\n",
    "### Examples\n",
    "The table below presents examples with some input data and their respective expected outputs. Make sure to test your program with these examples and with other possible cases.\n",
    "\n",
    "|     Input         |\tOutput      |\n",
    "|-------------------|---------------|\n",
    "| 2                 |cfe56761       |  \n",
    "| 2a6df7b8,100,500   \n",
    "|cfe56761,2000,1500 \n",
    "|-------------------|---------------|\n",
    "|4                  |8d9c3ef7\n",
    "|8d9c3ef7,532,467   |745d8cf4\n",
    "|3b09e1cf,897,900   |\n",
    "|745d8cf4,987,987   |  \n",
    "|2ae8651c,759,860   |               |\n",
    "|-------------------|---------------|\n",
    "|3                  |4e79a0e6\n",
    "|c0f72675,254,300   \n",
    "|4e79a0e6,852,851   \n",
    "|b8a1fd57,351,425                   |  "
   ]
  },
  {
   "cell_type": "code",
   "execution_count": 5,
   "id": "46acabc9",
   "metadata": {},
   "outputs": [
    {
     "name": "stdout",
     "output_type": "stream",
     "text": [
      "2\n",
      "2a6df7b8,100,500\n",
      "cfe56761,2000,1500\n",
      "cfe56761\n"
     ]
    }
   ],
   "source": [
    "n = int(input())\n",
    "lines = []\n",
    "\n",
    "for n in range(0, n):\n",
    "    lines.append(input())\n",
    "\n",
    "# TODO: Split each line into individual transactions and append them to a transaction list\n",
    "transactions = []\n",
    "for line in lines:\n",
    "    transactions.append(line.split(','))\n",
    "    \n",
    "# TODO: Define a function to detect fraudulent transactions\n",
    "def detect_frauds(transactions):\n",
    "    suspicious_transactions = []\n",
    "\n",
    "   # TODO: Iterate over each transaction\n",
    "    for transaction in transactions:\n",
    "        # TODO: Unpack the transaction into its components: id, value, and threshold and convert transaction value and fraud threshold to integers\n",
    "        trans_id, trans_value, trans_threshold = transaction\n",
    "        trans_value = int(trans_value)\n",
    "        trans_threshold = int(trans_threshold)\n",
    "        \n",
    "        # TODO: Check if the transaction value exceeds the fraud threshold\n",
    "        if trans_value >= trans_threshold:\n",
    "            suspicious_transactions.append(trans_id)\n",
    "            \n",
    "    return '\\n'.join(suspicious_transactions)\n",
    "\n",
    "# TODO: Print the suspicious transactions list\n",
    "print(detect_frauds(transactions))"
   ]
  },
  {
   "cell_type": "markdown",
   "id": "4f35e45a",
   "metadata": {},
   "source": [
    "# 3 / 3 - Calculating Assessment Metrics"
   ]
  },
  {
   "cell_type": "markdown",
   "id": "23456cbd",
   "metadata": {},
   "source": [
    "### Challenge\n",
    "You are part of a team that is developing Machine Learning models to identify the probability of default on loans granted by a financial institution. After training the models, your task is to evaluate their performance using some evaluation metrics. In this context, the challenge is to create an algorithm that receives n confusion matrices and should return the index, accuracy, and precision of the matrix that performs best based on the calculation of these metrics. Remembering that:\n",
    "\n",
    "• Accuracy is calculated by the formula: (TP + TN) / (TP + FP + FN + TN)\n",
    "• Precision is calculated by the formula: TP / (TP + FP)\n",
    "\n",
    "#### Where:\n",
    "\n",
    "• TP (True Positive): Cases where the model correctly predicted the positive class.\n",
    "• FP (False Positive or Type I Error): Cases where the model incorrectly predicted the positive class.\n",
    "• FN (False Negative or Type II Error): Cases where the model incorrectly predicted the negative class.\n",
    "• TN (True Negative): Cases where the model correctly predicted the negative class.\n",
    "\n",
    "### Input\n",
    "The input consists of a string composed of: n, representing the number of confusion matrices, followed by the values that make up the n matrices.\n",
    "\n",
    "Each matrix consists of four values, where the first two represent the first row of the matrix, composed of true positives (TP) and false positives (FP); the last two values represent the second row, which is formed by false negatives (FN) and true negatives (TN). The two rows and the values that compose them are separated by commas.\n",
    "\n",
    "### Output\n",
    "The expected outcome includes the index value, accuracy, and precision (rounded to two decimal place) of the best-performing matrix based on the calculation of these metrics.\n",
    "\n",
    "### Examples\n",
    "The table below presents examples with some input data and their respective expected outputs. Make sure to test your program with these examples and with other possible cases.\n",
    "\n",
    "Input|Output\n",
    "-----|-----\n",
    "2|Index: 1\n",
    "100,0,0,50| Accuracy: 1.0\n",
    "80,10,2,98| Precision: 1.0\n",
    "----------|-----------\n",
    "4|Index: 3\n",
    "70,15,8,78|Accuracy: 0.94\n",
    "60,20,10,80|Precision: 0.9\n",
    "45,5,3,92\n",
    "80,7,15,98\n",
    "----------|-----------\n",
    "3|Index: 1\n",
    "50,10,5,85|Accuracy: 0.9\n",
    "20,5,8,67|Precision: 0.83\n",
    "30,12,4,88\t\n",
    "\n"
   ]
  },
  {
   "cell_type": "code",
   "execution_count": 10,
   "id": "4a065609",
   "metadata": {},
   "outputs": [
    {
     "name": "stdout",
     "output_type": "stream",
     "text": [
      "2\n",
      "100,0,0,50\n",
      "80,10,2,98\n",
      "Index: 1\n",
      "Accuracy: 1.0\n",
      "Precision: 1.0\n"
     ]
    }
   ],
   "source": [
    "n = int(input())\n",
    "matrices = []\n",
    "\n",
    "for n in range(0, n):\n",
    "    matrix = input()\n",
    "    matrices.append(matrix.split(','))\n",
    "\n",
    "# TODO: Create a function to calculate accuracy and precision metrics\n",
    "def calculate_metrics(tp, fp, fn, tn):\n",
    "    accuracy = (tp + tn) / (tp + fp + fn + tn)\n",
    "    precision = tp / (tp + fp)\n",
    "    return accuracy, precision\n",
    "    \n",
    "# TODO: Create a function to find the matrix index with the best combined accuracy and precision\n",
    "def best_performance(matrices):\n",
    "    best_index = 0\n",
    "    best_accuracy = 0\n",
    "    best_precision = 0\n",
    "    # TODO: Define Loop through each matrix to calculate metrics\n",
    "    for index, matrix in enumerate(matrices):\n",
    "        # TODO: Define tp, fp fn and tn\n",
    "        matrix = [int(value) for value in matrix]\n",
    "        tp, fp, fn, tn = matrix\n",
    "        # TODO: Calculate accuracy and precision\n",
    "        accuracy, precision = calculate_metrics(tp, fp, fn, tn)\n",
    "        # TODO: Update best metrics if found\n",
    "        if accuracy + precision > best_accuracy + best_precision:\n",
    "            best_index = index + 1\n",
    "            best_accuracy = accuracy\n",
    "            best_precision = precision\n",
    "            \n",
    "    return best_index, round(best_accuracy, 2), round(best_precision, 2)\n",
    "\n",
    "# Print the results\n",
    "best_index, accuracy, precision = best_performance(matrices)\n",
    "print(\"Index:\", best_index)\n",
    "print(\"Accuracy:\", accuracy)\n",
    "print(\"Precision:\", precision)"
   ]
  }
 ],
 "metadata": {
  "kernelspec": {
   "display_name": "Python 3 (ipykernel)",
   "language": "python",
   "name": "python3"
  },
  "language_info": {
   "codemirror_mode": {
    "name": "ipython",
    "version": 3
   },
   "file_extension": ".py",
   "mimetype": "text/x-python",
   "name": "python",
   "nbconvert_exporter": "python",
   "pygments_lexer": "ipython3",
   "version": "3.11.5"
  }
 },
 "nbformat": 4,
 "nbformat_minor": 5
}
